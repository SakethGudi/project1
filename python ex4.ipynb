{
 "cells": [
  {
   "cell_type": "code",
   "execution_count": 6,
   "metadata": {},
   "outputs": [
    {
     "name": "stdout",
     "output_type": "stream",
     "text": [
      "there are 100 cars available.\n",
      "there are only 30  drivers available.\n",
      "there are 70 cars not driven.\n",
      "we can transport 120.0 passengers today\n",
      "we have 90 to transport today.\n",
      "we have to put about 3.0  in a car\n"
     ]
    }
   ],
   "source": [
    "cars=100\n",
    "space_in_a_car=4.0\n",
    "drivers=30\n",
    "passengers=90\n",
    "cars_not_driven=cars-drivers\n",
    "cars_driven= drivers\n",
    "carpool_capacity=cars_driven*space_in_a_car\n",
    "average_passengers_per_car=passengers/cars_driven\n",
    "\n",
    "print(\"there are\", cars,\"cars available.\")\n",
    "print(\"there are only\",drivers,\" drivers available.\")\n",
    "print(\"there are\", cars_not_driven, \"cars not driven.\")\n",
    "print(\"we can transport\", carpool_capacity, \"passengers today\")\n",
    "print(\"we have\", passengers,\"to transport today.\")\n",
    "print(\"we have to put about\", average_passengers_per_car, \" in a car\")"
   ]
  },
  {
   "cell_type": "code",
   "execution_count": null,
   "metadata": {},
   "outputs": [],
   "source": []
  },
  {
   "cell_type": "code",
   "execution_count": null,
   "metadata": {},
   "outputs": [],
   "source": []
  }
 ],
 "metadata": {
  "kernelspec": {
   "display_name": "Python 3",
   "language": "python",
   "name": "python3"
  },
  "language_info": {
   "codemirror_mode": {
    "name": "ipython",
    "version": 3
   },
   "file_extension": ".py",
   "mimetype": "text/x-python",
   "name": "python",
   "nbconvert_exporter": "python",
   "pygments_lexer": "ipython3",
   "version": "3.7.3"
  }
 },
 "nbformat": 4,
 "nbformat_minor": 2
}
