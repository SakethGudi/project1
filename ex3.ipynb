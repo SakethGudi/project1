{
 "cells": [
  {
   "cell_type": "code",
   "execution_count": 10,
   "metadata": {},
   "outputs": [
    {
     "name": "stdout",
     "output_type": "stream",
     "text": [
      "i will count my chickens:\n",
      "hens 30.0\n",
      "roosters 97\n",
      "i will now count my eggs:\n",
      "6.75\n",
      "is it true that 3+2<5-7\n",
      "False\n",
      "what is 3+2 5\n",
      "what is 5-7 -2\n",
      " oh! thats why it is false\n",
      "how about som more\n",
      "is it greater? True\n",
      "is it greater or equal? True\n",
      "is it less or equal? False\n"
     ]
    }
   ],
   "source": [
    "print (\"i will count my chickens:\")\n",
    "\n",
    "print (\"hens\",25+30/6)\n",
    "print (\"roosters\",100-25*3%4)\n",
    "print (\"i will now count my eggs:\")\n",
    "print (3+2+1-5+4%2-1/4+6)\n",
    "print (\"is it true that 3+2<5-7\")\n",
    "print (3+2<5-7)\n",
    "print (\"what is 3+2\" ,3+2)\n",
    "print (\"what is 5-7\",5-7)\n",
    "print (\" oh! thats why it is false\")\n",
    "print (\"how about som more\")\n",
    "print (\"is it greater?\", 5>-2)\n",
    "print (\"is it greater or equal?\",5>=-2)\n",
    "print (\"is it less or equal?\",5<=-2)\n"
   ]
  },
  {
   "cell_type": "code",
   "execution_count": null,
   "metadata": {},
   "outputs": [],
   "source": [
    "4"
   ]
  }
 ],
 "metadata": {
  "kernelspec": {
   "display_name": "Python 3",
   "language": "python",
   "name": "python3"
  },
  "language_info": {
   "codemirror_mode": {
    "name": "ipython",
    "version": 3
   },
   "file_extension": ".py",
   "mimetype": "text/x-python",
   "name": "python",
   "nbconvert_exporter": "python",
   "pygments_lexer": "ipython3",
   "version": "3.7.3"
  }
 },
 "nbformat": 4,
 "nbformat_minor": 2
}
