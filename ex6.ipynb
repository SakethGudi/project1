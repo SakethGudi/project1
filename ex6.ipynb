{
 "cells": [
  {
   "cell_type": "code",
   "execution_count": 1,
   "metadata": {},
   "outputs": [
    {
     "name": "stdout",
     "output_type": "stream",
     "text": [
      "there are 10 types of people \n",
      "those who  know binary and those who  don't\n",
      "i said 'there are 10 types of people '.\n",
      "i also said :'those who  know binary and those who  don't'.\n",
      "isnt that funny?!False\n",
      "this is the left side of....a string with a right side\n"
     ]
    }
   ],
   "source": [
    "x=\"there are %d types of people \"%10\n",
    "binary=\"binary\"\n",
    "do_not=\"don't\"\n",
    "y=\"those who  know %s and those who  %s\"%(binary,do_not)\n",
    "\n",
    "print(x)\n",
    "print (y)\n",
    "print(\"i said %r.\"%x)\n",
    "print(\"i also said :'%s'.\"%y)\n",
    "hilarious= False\n",
    "joke_evaluation=\"isnt that funny?!%r\"\n",
    "print (joke_evaluation%hilarious)\n",
    "w=\"this is the left side of....\"\n",
    "e=\"a string with a right side\"\n",
    "print(w+e)"
   ]
  },
  {
   "cell_type": "code",
   "execution_count": null,
   "metadata": {},
   "outputs": [],
   "source": []
  }
 ],
 "metadata": {
  "kernelspec": {
   "display_name": "Python 3",
   "language": "python",
   "name": "python3"
  },
  "language_info": {
   "codemirror_mode": {
    "name": "ipython",
    "version": 3
   },
   "file_extension": ".py",
   "mimetype": "text/x-python",
   "name": "python",
   "nbconvert_exporter": "python",
   "pygments_lexer": "ipython3",
   "version": "3.7.3"
  }
 },
 "nbformat": 4,
 "nbformat_minor": 2
}
