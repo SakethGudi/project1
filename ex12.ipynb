{
 "cells": [
  {
   "cell_type": "code",
   "execution_count": 1,
   "metadata": {},
   "outputs": [
    {
     "name": "stdout",
     "output_type": "stream",
     "text": [
      "how old are you?19\n",
      "how tall are you?174\n",
      "what is your weight?68\n",
      "so you are '19' years old, '174' cm high and '68' kgs\n"
     ]
    }
   ],
   "source": [
    "age=input(\"how old are you?\")\n",
    "height=input(\"how tall are you?\")\n",
    "weight=input(\"what is your weight?\")\n",
    "print(\"so you are %r years old, %r cm high and %r kgs\" %(age, height,weight))"
   ]
  },
  {
   "cell_type": "code",
   "execution_count": null,
   "metadata": {},
   "outputs": [],
   "source": []
  }
 ],
 "metadata": {
  "kernelspec": {
   "display_name": "Python 3",
   "language": "python",
   "name": "python3"
  },
  "language_info": {
   "codemirror_mode": {
    "name": "ipython",
    "version": 3
   },
   "file_extension": ".py",
   "mimetype": "text/x-python",
   "name": "python",
   "nbconvert_exporter": "python",
   "pygments_lexer": "ipython3",
   "version": "3.7.3"
  }
 },
 "nbformat": 4,
 "nbformat_minor": 2
}
