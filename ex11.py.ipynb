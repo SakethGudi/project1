{
 "cells": [
  {
   "cell_type": "code",
   "execution_count": 7,
   "metadata": {},
   "outputs": [
    {
     "name": "stdout",
     "output_type": "stream",
     "text": [
      "how old are you?\n",
      "19\n",
      "how tall are you?\n",
      "174\n",
      "how much do you weigh?\n",
      "68\n",
      "so your '19' years old, '174' cm tall, '68' kgs\n"
     ]
    }
   ],
   "source": [
    "print(\"how old are you?\"),\n",
    "age= input()\n",
    "print(\"how tall are you?\"),\n",
    "height= input()\n",
    "print(\"how much do you weigh?\"),\n",
    "weight= input()\n",
    "print(\"so your %r years old, %r cm tall, %r kgs\" %(age,height,weight))"
   ]
  },
  {
   "cell_type": "code",
   "execution_count": null,
   "metadata": {},
   "outputs": [],
   "source": []
  }
 ],
 "metadata": {
  "kernelspec": {
   "display_name": "Python 3",
   "language": "python",
   "name": "python3"
  },
  "language_info": {
   "codemirror_mode": {
    "name": "ipython",
    "version": 3
   },
   "file_extension": ".py",
   "mimetype": "text/x-python",
   "name": "python",
   "nbconvert_exporter": "python",
   "pygments_lexer": "ipython3",
   "version": "3.7.3"
  }
 },
 "nbformat": 4,
 "nbformat_minor": 2
}
