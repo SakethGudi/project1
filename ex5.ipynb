{
 "cells": [
  {
   "cell_type": "code",
   "execution_count": 12,
   "metadata": {},
   "outputs": [
    {
     "name": "stdout",
     "output_type": "stream",
     "text": [
      "lets talk about saketh.\n",
      "hes 19 years old\n",
      "hes 171 cm tall\n",
      "he is 67 kgs\n",
      "he has black hair\n",
      "he like everyone else has white teeth\n"
     ]
    }
   ],
   "source": [
    "my_name='saketh'\n",
    "my_age=19\n",
    "my_height=171\n",
    "my_weight=67\n",
    "my_hair='black'\n",
    "my_teeth='white'\n",
    "\n",
    "print(\"lets talk about %s.\"% my_name)\n",
    "print(\"hes %d years old\"% my_age)\n",
    "print(\"hes %d cm tall\"% my_height)\n",
    "print(\"he is %d kgs\"% my_weight)\n",
    "print(\"he has %s hair\"% my_hair)\n",
    "print(\"he like everyone else has %s teeth\"% my_teeth)\n"
   ]
  },
  {
   "cell_type": "code",
   "execution_count": null,
   "metadata": {},
   "outputs": [],
   "source": []
  },
  {
   "cell_type": "code",
   "execution_count": null,
   "metadata": {},
   "outputs": [],
   "source": []
  }
 ],
 "metadata": {
  "kernelspec": {
   "display_name": "Python 3",
   "language": "python",
   "name": "python3"
  },
  "language_info": {
   "codemirror_mode": {
    "name": "ipython",
    "version": 3
   },
   "file_extension": ".py",
   "mimetype": "text/x-python",
   "name": "python",
   "nbconvert_exporter": "python",
   "pygments_lexer": "ipython3",
   "version": "3.7.3"
  }
 },
 "nbformat": 4,
 "nbformat_minor": 2
}
