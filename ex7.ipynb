{
 "cells": [
  {
   "cell_type": "code",
   "execution_count": 8,
   "metadata": {},
   "outputs": [
    {
     "name": "stdout",
     "output_type": "stream",
     "text": [
      "mary had a little lamb\n",
      "its fleece was white as snow.\n",
      "and everywhere that mary went\n",
      "..........\n",
      "cheese burger\n"
     ]
    }
   ],
   "source": [
    "print(\"mary had a little lamb\")\n",
    "print(\"its fleece was white as %s.\" %'snow')\n",
    "print(\"and everywhere that mary went\")\n",
    "print(\".\"*10)\n",
    "end1=\"c\"\n",
    "end2=\"h\"\n",
    "end3=\"e\"\n",
    "end4=\"e\"\n",
    "end5=\"s\"\n",
    "end6=\"e\"\n",
    "end7=\"b\"\n",
    "end8=\"u\"\n",
    "end9=\"r\"\n",
    "end10=\"g\"\n",
    "end11=\"e\"\n",
    "end12=\"r\"\n",
    "print ((end1+end2+end3+end4+end5+end6),(end7+end8+end9+end10+end11+end12))"
   ]
  },
  {
   "cell_type": "code",
   "execution_count": null,
   "metadata": {},
   "outputs": [],
   "source": []
  }
 ],
 "metadata": {
  "kernelspec": {
   "display_name": "Python 3",
   "language": "python",
   "name": "python3"
  },
  "language_info": {
   "codemirror_mode": {
    "name": "ipython",
    "version": 3
   },
   "file_extension": ".py",
   "mimetype": "text/x-python",
   "name": "python",
   "nbconvert_exporter": "python",
   "pygments_lexer": "ipython3",
   "version": "3.7.3"
  }
 },
 "nbformat": 4,
 "nbformat_minor": 2
}
