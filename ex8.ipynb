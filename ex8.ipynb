{
 "cells": [
  {
   "cell_type": "code",
   "execution_count": 6,
   "metadata": {},
   "outputs": [
    {
     "name": "stdout",
     "output_type": "stream",
     "text": [
      "1 2 3 4\n",
      "'one' 'two' 'three' 'four'\n",
      "True False False True\n",
      "' i had this thing.' ' that you could type up right' 'but it didnt sing.' 'so i said goodnight.'\n"
     ]
    }
   ],
   "source": [
    "formatter=\"%r %r %r %r\"\n",
    "print (formatter %(1, 2, 3 ,4) )\n",
    "print (formatter %(\"one\", \"two\", \"three\", \"four\") )\n",
    "print (formatter %(True, False, False, True) )\n",
    "print (formatter %(\" i had this thing.\",\n",
    "                   \" that you could type up right\",\n",
    "\t\t\t\t   \"but it didnt sing.\",\n",
    "\t\t\t\t   \"so i said goodnight.\")\n",
    ")"
   ]
  },
  {
   "cell_type": "code",
   "execution_count": null,
   "metadata": {},
   "outputs": [],
   "source": []
  }
 ],
 "metadata": {
  "kernelspec": {
   "display_name": "Python 3",
   "language": "python",
   "name": "python3"
  },
  "language_info": {
   "codemirror_mode": {
    "name": "ipython",
    "version": 3
   },
   "file_extension": ".py",
   "mimetype": "text/x-python",
   "name": "python",
   "nbconvert_exporter": "python",
   "pygments_lexer": "ipython3",
   "version": "3.7.3"
  }
 },
 "nbformat": 4,
 "nbformat_minor": 2
}
