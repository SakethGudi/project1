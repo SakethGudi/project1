{
 "cells": [
  {
   "cell_type": "code",
   "execution_count": 3,
   "metadata": {},
   "outputs": [
    {
     "name": "stdout",
     "output_type": "stream",
     "text": [
      "here are the days: Mon Tue Wed Thu Fri Sat Sun\n",
      "here are the months: Jan\n",
      "Feb\n",
      "Mar\n",
      "Apr\n",
      "May\n",
      "Jun\n",
      "July\n",
      "Aug\n",
      "\n",
      "Theres something going on here.\n",
      "With three double quotes.\n",
      "We can print any nimber of lines.\n",
      "Either 4 or 5 or 10.\n",
      "\n"
     ]
    }
   ],
   "source": [
    "days = (\"Mon Tue Wed Thu Fri Sat Sun\")\n",
    "months= (\"Jan\\nFeb\\nMar\\nApr\\nMay\\nJun\\nJuly\\nAug\")\n",
    "print(\"here are the days:\", days)\n",
    "print(\"here are the months:\", months)\n",
    "print( \"\"\"\n",
    "Theres something going on here.\n",
    "With three double quotes.\n",
    "We can print any nimber of lines.\n",
    "Either 4 or 5 or 10.\n",
    "\"\"\"\n",
    ")\n",
    "\t   "
   ]
  },
  {
   "cell_type": "code",
   "execution_count": null,
   "metadata": {},
   "outputs": [],
   "source": []
  }
 ],
 "metadata": {
  "kernelspec": {
   "display_name": "Python 3",
   "language": "python",
   "name": "python3"
  },
  "language_info": {
   "codemirror_mode": {
    "name": "ipython",
    "version": 3
   },
   "file_extension": ".py",
   "mimetype": "text/x-python",
   "name": "python",
   "nbconvert_exporter": "python",
   "pygments_lexer": "ipython3",
   "version": "3.7.3"
  }
 },
 "nbformat": 4,
 "nbformat_minor": 2
}
